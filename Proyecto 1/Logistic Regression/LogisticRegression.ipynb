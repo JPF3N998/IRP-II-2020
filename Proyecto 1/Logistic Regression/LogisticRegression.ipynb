{
 "metadata": {
  "language_info": {
   "codemirror_mode": {
    "name": "ipython",
    "version": 3
   },
   "file_extension": ".py",
   "mimetype": "text/x-python",
   "name": "python",
   "nbconvert_exporter": "python",
   "pygments_lexer": "ipython3",
   "version": "3.8.5-final"
  },
  "orig_nbformat": 2,
  "kernelspec": {
   "name": "python3",
   "display_name": "Python 3.8.5 64-bit",
   "metadata": {
    "interpreter": {
     "hash": "13fdf25ef2beee923e1f1011635d38d6ce68fb2882c6a64f76de1420ab9cc9f4"
    }
   }
  }
 },
 "nbformat": 4,
 "nbformat_minor": 2,
 "cells": [
  {
   "source": [
    "# **Regresión logística**"
   ],
   "cell_type": "markdown",
   "metadata": {}
  },
  {
   "cell_type": "code",
   "execution_count": 1,
   "metadata": {},
   "outputs": [],
   "source": [
    "# Importar librerias\n",
    "import pandas as pd\n",
    "from pandas import DataFrame\n",
    "import numpy as np\n",
    "from os import listdir\n",
    "import cv2 as cv\n",
    "\n",
    "from sklearn.linear_model import LogisticRegression\n",
    "from sklearn.model_selection import train_test_split\n",
    "from sklearn.metrics import accuracy_score\n",
    "\n",
    "import matplotlib.pyplot as plt\n",
    "import plotly.express as px\n",
    "import time"
   ]
  },
  {
   "cell_type": "code",
   "execution_count": 2,
   "metadata": {},
   "outputs": [
    {
     "output_type": "stream",
     "name": "stdout",
     "text": [
      "CWD => d:\\Documents\\Programming\\Repos\\IRP-II-2020-Grupo-4\\Proyecto 1\\Logistic Regression\\\nFiles => ['0', '1', '2', '3', '4', '5', '6', '7', '8', '9', 'LogisticRegression.ipynb', 'LogisticRegressionResults.jpeg']\n"
     ]
    }
   ],
   "source": [
    "cwd = os.path.abspath(os.getcwd()) + '\\\\'\n",
    "print(\"CWD =>\",cwd)\n",
    "\n",
    "files = listdir(cwd)\n",
    "print(\"Files =>\", files)"
   ]
  },
  {
   "cell_type": "code",
   "execution_count": 5,
   "metadata": {
    "tags": []
   },
   "outputs": [
    {
     "output_type": "stream",
     "name": "stdout",
     "text": [
      "     0    1    2    3    4    5    6    7    8    9  ...  6903  6904  6905  \\\n0  255  255  255  255  255  255  255  255  255  252  ...   255   255   255   \n1  255  255  255  255  255  255  255  255  251  255  ...   255   255   255   \n2  255  255  255  255  255  255  255  255  255  255  ...   254   255   255   \n3  255  255  255  255  255  255  255  255  255  253  ...   254   255   255   \n4  255  255  255  255  255  255  255  255  253  254  ...   255   255   255   \n\n   6906  6907  6908  6909  6910  6911  etiqueta  \n0   255   255   255   255   255   255         0  \n1   255   255   255   255   255   255         0  \n2   255   255   255   255   255   255         0  \n3   255   255   255   255   255   255         0  \n4   255   255   255   255   255   255         0  \n\n[5 rows x 6913 columns]\n"
     ]
    },
    {
     "output_type": "execute_result",
     "data": {
      "text/plain": [
       "<matplotlib.image.AxesImage at 0x1b369547d30>"
      ]
     },
     "metadata": {},
     "execution_count": 5
    },
    {
     "output_type": "display_data",
     "data": {
      "text/plain": "<Figure size 432x288 with 1 Axes>",
      "image/svg+xml": "<?xml version=\"1.0\" encoding=\"utf-8\" standalone=\"no\"?>\r\n<!DOCTYPE svg PUBLIC \"-//W3C//DTD SVG 1.1//EN\"\r\n  \"http://www.w3.org/Graphics/SVG/1.1/DTD/svg11.dtd\">\r\n<!-- Created with matplotlib (https://matplotlib.org/) -->\r\n<svg height=\"251.562344pt\" version=\"1.1\" viewBox=\"0 0 112.9675 251.562344\" width=\"112.9675pt\" xmlns=\"http://www.w3.org/2000/svg\" xmlns:xlink=\"http://www.w3.org/1999/xlink\">\r\n <metadata>\r\n  <rdf:RDF xmlns:cc=\"http://creativecommons.org/ns#\" xmlns:dc=\"http://purl.org/dc/elements/1.1/\" xmlns:rdf=\"http://www.w3.org/1999/02/22-rdf-syntax-ns#\">\r\n   <cc:Work>\r\n    <dc:type rdf:resource=\"http://purl.org/dc/dcmitype/StillImage\"/>\r\n    <dc:date>2020-12-06T21:16:28.113642</dc:date>\r\n    <dc:format>image/svg+xml</dc:format>\r\n    <dc:creator>\r\n     <cc:Agent>\r\n      <dc:title>Matplotlib v3.3.1, https://matplotlib.org/</dc:title>\r\n     </cc:Agent>\r\n    </dc:creator>\r\n   </cc:Work>\r\n  </rdf:RDF>\r\n </metadata>\r\n <defs>\r\n  <style type=\"text/css\">*{stroke-linecap:butt;stroke-linejoin:round;}</style>\r\n </defs>\r\n <g id=\"figure_1\">\r\n  <g id=\"patch_1\">\r\n   <path d=\"M 0 251.562344 \r\nL 112.9675 251.562344 \r\nL 112.9675 0 \r\nL 0 0 \r\nz\r\n\" style=\"fill:none;\"/>\r\n  </g>\r\n  <g id=\"axes_1\">\r\n   <g id=\"patch_2\">\r\n    <path d=\"M 33.2875 227.684219 \r\nL 105.7675 227.684219 \r\nL 105.7675 10.244219 \r\nL 33.2875 10.244219 \r\nz\r\n\" style=\"fill:#ffffff;\"/>\r\n   </g>\r\n   <g clip-path=\"url(#p520ff8a105)\">\r\n    <image height=\"218\" id=\"image439169644b\" transform=\"scale(1 -1)translate(0 -218)\" width=\"73\" x=\"33.2875\" xlink:href=\"data:image/png;base64,\r\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\" y=\"-9.684219\"/>\r\n   </g>\r\n   <g id=\"matplotlib.axis_1\">\r\n    <g id=\"xtick_1\">\r\n     <g id=\"line2d_1\">\r\n      <defs>\r\n       <path d=\"M 0 0 \r\nL 0 3.5 \r\n\" id=\"m2759a4df2a\" style=\"stroke:#000000;stroke-width:0.8;\"/>\r\n      </defs>\r\n      <g>\r\n       <use style=\"stroke:#000000;stroke-width:0.8;\" x=\"34.0425\" xlink:href=\"#m2759a4df2a\" y=\"227.684219\"/>\r\n      </g>\r\n     </g>\r\n     <g id=\"text_1\">\r\n      <!-- 0 -->\r\n      <g transform=\"translate(30.86125 242.282656)scale(0.1 -0.1)\">\r\n       <defs>\r\n        <path d=\"M 31.78125 66.40625 \r\nQ 24.171875 66.40625 20.328125 58.90625 \r\nQ 16.5 51.421875 16.5 36.375 \r\nQ 16.5 21.390625 20.328125 13.890625 \r\nQ 24.171875 6.390625 31.78125 6.390625 \r\nQ 39.453125 6.390625 43.28125 13.890625 \r\nQ 47.125 21.390625 47.125 36.375 \r\nQ 47.125 51.421875 43.28125 58.90625 \r\nQ 39.453125 66.40625 31.78125 66.40625 \r\nz\r\nM 31.78125 74.21875 \r\nQ 44.046875 74.21875 50.515625 64.515625 \r\nQ 56.984375 54.828125 56.984375 36.375 \r\nQ 56.984375 17.96875 50.515625 8.265625 \r\nQ 44.046875 -1.421875 31.78125 -1.421875 \r\nQ 19.53125 -1.421875 13.0625 8.265625 \r\nQ 6.59375 17.96875 6.59375 36.375 \r\nQ 6.59375 54.828125 13.0625 64.515625 \r\nQ 19.53125 74.21875 31.78125 74.21875 \r\nz\r\n\" id=\"DejaVuSans-48\"/>\r\n       </defs>\r\n       <use xlink:href=\"#DejaVuSans-48\"/>\r\n      </g>\r\n     </g>\r\n    </g>\r\n    <g id=\"xtick_2\">\r\n     <g id=\"line2d_2\">\r\n      <g>\r\n       <use style=\"stroke:#000000;stroke-width:0.8;\" x=\"71.7925\" xlink:href=\"#m2759a4df2a\" y=\"227.684219\"/>\r\n      </g>\r\n     </g>\r\n     <g id=\"text_2\">\r\n      <!-- 25 -->\r\n      <g transform=\"translate(65.43 242.282656)scale(0.1 -0.1)\">\r\n       <defs>\r\n        <path d=\"M 19.1875 8.296875 \r\nL 53.609375 8.296875 \r\nL 53.609375 0 \r\nL 7.328125 0 \r\nL 7.328125 8.296875 \r\nQ 12.9375 14.109375 22.625 23.890625 \r\nQ 32.328125 33.6875 34.8125 36.53125 \r\nQ 39.546875 41.84375 41.421875 45.53125 \r\nQ 43.3125 49.21875 43.3125 52.78125 \r\nQ 43.3125 58.59375 39.234375 62.25 \r\nQ 35.15625 65.921875 28.609375 65.921875 \r\nQ 23.96875 65.921875 18.8125 64.3125 \r\nQ 13.671875 62.703125 7.8125 59.421875 \r\nL 7.8125 69.390625 \r\nQ 13.765625 71.78125 18.9375 73 \r\nQ 24.125 74.21875 28.421875 74.21875 \r\nQ 39.75 74.21875 46.484375 68.546875 \r\nQ 53.21875 62.890625 53.21875 53.421875 \r\nQ 53.21875 48.921875 51.53125 44.890625 \r\nQ 49.859375 40.875 45.40625 35.40625 \r\nQ 44.1875 33.984375 37.640625 27.21875 \r\nQ 31.109375 20.453125 19.1875 8.296875 \r\nz\r\n\" id=\"DejaVuSans-50\"/>\r\n        <path d=\"M 10.796875 72.90625 \r\nL 49.515625 72.90625 \r\nL 49.515625 64.59375 \r\nL 19.828125 64.59375 \r\nL 19.828125 46.734375 \r\nQ 21.96875 47.46875 24.109375 47.828125 \r\nQ 26.265625 48.1875 28.421875 48.1875 \r\nQ 40.625 48.1875 47.75 41.5 \r\nQ 54.890625 34.8125 54.890625 23.390625 \r\nQ 54.890625 11.625 47.5625 5.09375 \r\nQ 40.234375 -1.421875 26.90625 -1.421875 \r\nQ 22.3125 -1.421875 17.546875 -0.640625 \r\nQ 12.796875 0.140625 7.71875 1.703125 \r\nL 7.71875 11.625 \r\nQ 12.109375 9.234375 16.796875 8.0625 \r\nQ 21.484375 6.890625 26.703125 6.890625 \r\nQ 35.15625 6.890625 40.078125 11.328125 \r\nQ 45.015625 15.765625 45.015625 23.390625 \r\nQ 45.015625 31 40.078125 35.4375 \r\nQ 35.15625 39.890625 26.703125 39.890625 \r\nQ 22.75 39.890625 18.8125 39.015625 \r\nQ 14.890625 38.140625 10.796875 36.28125 \r\nz\r\n\" id=\"DejaVuSans-53\"/>\r\n       </defs>\r\n       <use xlink:href=\"#DejaVuSans-50\"/>\r\n       <use x=\"63.623047\" xlink:href=\"#DejaVuSans-53\"/>\r\n      </g>\r\n     </g>\r\n    </g>\r\n   </g>\r\n   <g id=\"matplotlib.axis_2\">\r\n    <g id=\"ytick_1\">\r\n     <g id=\"line2d_3\">\r\n      <defs>\r\n       <path d=\"M 0 0 \r\nL -3.5 0 \r\n\" id=\"mdc578dd752\" style=\"stroke:#000000;stroke-width:0.8;\"/>\r\n      </defs>\r\n      <g>\r\n       <use style=\"stroke:#000000;stroke-width:0.8;\" x=\"33.2875\" xlink:href=\"#mdc578dd752\" y=\"10.999219\"/>\r\n      </g>\r\n     </g>\r\n     <g id=\"text_3\">\r\n      <!-- 0 -->\r\n      <g transform=\"translate(19.925 14.798437)scale(0.1 -0.1)\">\r\n       <use xlink:href=\"#DejaVuSans-48\"/>\r\n      </g>\r\n     </g>\r\n    </g>\r\n    <g id=\"ytick_2\">\r\n     <g id=\"line2d_4\">\r\n      <g>\r\n       <use style=\"stroke:#000000;stroke-width:0.8;\" x=\"33.2875\" xlink:href=\"#mdc578dd752\" y=\"41.199219\"/>\r\n      </g>\r\n     </g>\r\n     <g id=\"text_4\">\r\n      <!-- 20 -->\r\n      <g transform=\"translate(13.5625 44.998437)scale(0.1 -0.1)\">\r\n       <use xlink:href=\"#DejaVuSans-50\"/>\r\n       <use x=\"63.623047\" xlink:href=\"#DejaVuSans-48\"/>\r\n      </g>\r\n     </g>\r\n    </g>\r\n    <g id=\"ytick_3\">\r\n     <g id=\"line2d_5\">\r\n      <g>\r\n       <use style=\"stroke:#000000;stroke-width:0.8;\" x=\"33.2875\" xlink:href=\"#mdc578dd752\" y=\"71.399219\"/>\r\n      </g>\r\n     </g>\r\n     <g id=\"text_5\">\r\n      <!-- 40 -->\r\n      <g transform=\"translate(13.5625 75.198437)scale(0.1 -0.1)\">\r\n       <defs>\r\n        <path d=\"M 37.796875 64.3125 \r\nL 12.890625 25.390625 \r\nL 37.796875 25.390625 \r\nz\r\nM 35.203125 72.90625 \r\nL 47.609375 72.90625 \r\nL 47.609375 25.390625 \r\nL 58.015625 25.390625 \r\nL 58.015625 17.1875 \r\nL 47.609375 17.1875 \r\nL 47.609375 0 \r\nL 37.796875 0 \r\nL 37.796875 17.1875 \r\nL 4.890625 17.1875 \r\nL 4.890625 26.703125 \r\nz\r\n\" id=\"DejaVuSans-52\"/>\r\n       </defs>\r\n       <use xlink:href=\"#DejaVuSans-52\"/>\r\n       <use x=\"63.623047\" xlink:href=\"#DejaVuSans-48\"/>\r\n      </g>\r\n     </g>\r\n    </g>\r\n    <g id=\"ytick_4\">\r\n     <g id=\"line2d_6\">\r\n      <g>\r\n       <use style=\"stroke:#000000;stroke-width:0.8;\" x=\"33.2875\" xlink:href=\"#mdc578dd752\" y=\"101.599219\"/>\r\n      </g>\r\n     </g>\r\n     <g id=\"text_6\">\r\n      <!-- 60 -->\r\n      <g transform=\"translate(13.5625 105.398437)scale(0.1 -0.1)\">\r\n       <defs>\r\n        <path d=\"M 33.015625 40.375 \r\nQ 26.375 40.375 22.484375 35.828125 \r\nQ 18.609375 31.296875 18.609375 23.390625 \r\nQ 18.609375 15.53125 22.484375 10.953125 \r\nQ 26.375 6.390625 33.015625 6.390625 \r\nQ 39.65625 6.390625 43.53125 10.953125 \r\nQ 47.40625 15.53125 47.40625 23.390625 \r\nQ 47.40625 31.296875 43.53125 35.828125 \r\nQ 39.65625 40.375 33.015625 40.375 \r\nz\r\nM 52.59375 71.296875 \r\nL 52.59375 62.3125 \r\nQ 48.875 64.0625 45.09375 64.984375 \r\nQ 41.3125 65.921875 37.59375 65.921875 \r\nQ 27.828125 65.921875 22.671875 59.328125 \r\nQ 17.53125 52.734375 16.796875 39.40625 \r\nQ 19.671875 43.65625 24.015625 45.921875 \r\nQ 28.375 48.1875 33.59375 48.1875 \r\nQ 44.578125 48.1875 50.953125 41.515625 \r\nQ 57.328125 34.859375 57.328125 23.390625 \r\nQ 57.328125 12.15625 50.6875 5.359375 \r\nQ 44.046875 -1.421875 33.015625 -1.421875 \r\nQ 20.359375 -1.421875 13.671875 8.265625 \r\nQ 6.984375 17.96875 6.984375 36.375 \r\nQ 6.984375 53.65625 15.1875 63.9375 \r\nQ 23.390625 74.21875 37.203125 74.21875 \r\nQ 40.921875 74.21875 44.703125 73.484375 \r\nQ 48.484375 72.75 52.59375 71.296875 \r\nz\r\n\" id=\"DejaVuSans-54\"/>\r\n       </defs>\r\n       <use xlink:href=\"#DejaVuSans-54\"/>\r\n       <use x=\"63.623047\" xlink:href=\"#DejaVuSans-48\"/>\r\n      </g>\r\n     </g>\r\n    </g>\r\n    <g id=\"ytick_5\">\r\n     <g id=\"line2d_7\">\r\n      <g>\r\n       <use style=\"stroke:#000000;stroke-width:0.8;\" x=\"33.2875\" xlink:href=\"#mdc578dd752\" y=\"131.799219\"/>\r\n      </g>\r\n     </g>\r\n     <g id=\"text_7\">\r\n      <!-- 80 -->\r\n      <g transform=\"translate(13.5625 135.598437)scale(0.1 -0.1)\">\r\n       <defs>\r\n        <path d=\"M 31.78125 34.625 \r\nQ 24.75 34.625 20.71875 30.859375 \r\nQ 16.703125 27.09375 16.703125 20.515625 \r\nQ 16.703125 13.921875 20.71875 10.15625 \r\nQ 24.75 6.390625 31.78125 6.390625 \r\nQ 38.8125 6.390625 42.859375 10.171875 \r\nQ 46.921875 13.96875 46.921875 20.515625 \r\nQ 46.921875 27.09375 42.890625 30.859375 \r\nQ 38.875 34.625 31.78125 34.625 \r\nz\r\nM 21.921875 38.8125 \r\nQ 15.578125 40.375 12.03125 44.71875 \r\nQ 8.5 49.078125 8.5 55.328125 \r\nQ 8.5 64.0625 14.71875 69.140625 \r\nQ 20.953125 74.21875 31.78125 74.21875 \r\nQ 42.671875 74.21875 48.875 69.140625 \r\nQ 55.078125 64.0625 55.078125 55.328125 \r\nQ 55.078125 49.078125 51.53125 44.71875 \r\nQ 48 40.375 41.703125 38.8125 \r\nQ 48.828125 37.15625 52.796875 32.3125 \r\nQ 56.78125 27.484375 56.78125 20.515625 \r\nQ 56.78125 9.90625 50.3125 4.234375 \r\nQ 43.84375 -1.421875 31.78125 -1.421875 \r\nQ 19.734375 -1.421875 13.25 4.234375 \r\nQ 6.78125 9.90625 6.78125 20.515625 \r\nQ 6.78125 27.484375 10.78125 32.3125 \r\nQ 14.796875 37.15625 21.921875 38.8125 \r\nz\r\nM 18.3125 54.390625 \r\nQ 18.3125 48.734375 21.84375 45.5625 \r\nQ 25.390625 42.390625 31.78125 42.390625 \r\nQ 38.140625 42.390625 41.71875 45.5625 \r\nQ 45.3125 48.734375 45.3125 54.390625 \r\nQ 45.3125 60.0625 41.71875 63.234375 \r\nQ 38.140625 66.40625 31.78125 66.40625 \r\nQ 25.390625 66.40625 21.84375 63.234375 \r\nQ 18.3125 60.0625 18.3125 54.390625 \r\nz\r\n\" id=\"DejaVuSans-56\"/>\r\n       </defs>\r\n       <use xlink:href=\"#DejaVuSans-56\"/>\r\n       <use x=\"63.623047\" xlink:href=\"#DejaVuSans-48\"/>\r\n      </g>\r\n     </g>\r\n    </g>\r\n    <g id=\"ytick_6\">\r\n     <g id=\"line2d_8\">\r\n      <g>\r\n       <use style=\"stroke:#000000;stroke-width:0.8;\" x=\"33.2875\" xlink:href=\"#mdc578dd752\" y=\"161.999219\"/>\r\n      </g>\r\n     </g>\r\n     <g id=\"text_8\">\r\n      <!-- 100 -->\r\n      <g transform=\"translate(7.2 165.798437)scale(0.1 -0.1)\">\r\n       <defs>\r\n        <path d=\"M 12.40625 8.296875 \r\nL 28.515625 8.296875 \r\nL 28.515625 63.921875 \r\nL 10.984375 60.40625 \r\nL 10.984375 69.390625 \r\nL 28.421875 72.90625 \r\nL 38.28125 72.90625 \r\nL 38.28125 8.296875 \r\nL 54.390625 8.296875 \r\nL 54.390625 0 \r\nL 12.40625 0 \r\nz\r\n\" id=\"DejaVuSans-49\"/>\r\n       </defs>\r\n       <use xlink:href=\"#DejaVuSans-49\"/>\r\n       <use x=\"63.623047\" xlink:href=\"#DejaVuSans-48\"/>\r\n       <use x=\"127.246094\" xlink:href=\"#DejaVuSans-48\"/>\r\n      </g>\r\n     </g>\r\n    </g>\r\n    <g id=\"ytick_7\">\r\n     <g id=\"line2d_9\">\r\n      <g>\r\n       <use style=\"stroke:#000000;stroke-width:0.8;\" x=\"33.2875\" xlink:href=\"#mdc578dd752\" y=\"192.199219\"/>\r\n      </g>\r\n     </g>\r\n     <g id=\"text_9\">\r\n      <!-- 120 -->\r\n      <g transform=\"translate(7.2 195.998437)scale(0.1 -0.1)\">\r\n       <use xlink:href=\"#DejaVuSans-49\"/>\r\n       <use x=\"63.623047\" xlink:href=\"#DejaVuSans-50\"/>\r\n       <use x=\"127.246094\" xlink:href=\"#DejaVuSans-48\"/>\r\n      </g>\r\n     </g>\r\n    </g>\r\n    <g id=\"ytick_8\">\r\n     <g id=\"line2d_10\">\r\n      <g>\r\n       <use style=\"stroke:#000000;stroke-width:0.8;\" x=\"33.2875\" xlink:href=\"#mdc578dd752\" y=\"222.399219\"/>\r\n      </g>\r\n     </g>\r\n     <g id=\"text_10\">\r\n      <!-- 140 -->\r\n      <g transform=\"translate(7.2 226.198437)scale(0.1 -0.1)\">\r\n       <use xlink:href=\"#DejaVuSans-49\"/>\r\n       <use x=\"63.623047\" xlink:href=\"#DejaVuSans-52\"/>\r\n       <use x=\"127.246094\" xlink:href=\"#DejaVuSans-48\"/>\r\n      </g>\r\n     </g>\r\n    </g>\r\n   </g>\r\n   <g id=\"patch_3\">\r\n    <path d=\"M 33.2875 227.684219 \r\nL 33.2875 10.244219 \r\n\" style=\"fill:none;stroke:#000000;stroke-linecap:square;stroke-linejoin:miter;stroke-width:0.8;\"/>\r\n   </g>\r\n   <g id=\"patch_4\">\r\n    <path d=\"M 105.7675 227.684219 \r\nL 105.7675 10.244219 \r\n\" style=\"fill:none;stroke:#000000;stroke-linecap:square;stroke-linejoin:miter;stroke-width:0.8;\"/>\r\n   </g>\r\n   <g id=\"patch_5\">\r\n    <path d=\"M 33.2875 227.684219 \r\nL 105.7675 227.684219 \r\n\" style=\"fill:none;stroke:#000000;stroke-linecap:square;stroke-linejoin:miter;stroke-width:0.8;\"/>\r\n   </g>\r\n   <g id=\"patch_6\">\r\n    <path d=\"M 33.2875 10.244219 \r\nL 105.7675 10.244219 \r\n\" style=\"fill:none;stroke:#000000;stroke-linecap:square;stroke-linejoin:miter;stroke-width:0.8;\"/>\r\n   </g>\r\n  </g>\r\n </g>\r\n <defs>\r\n  <clipPath id=\"p520ff8a105\">\r\n   <rect height=\"217.44\" width=\"72.48\" x=\"33.2875\" y=\"10.244219\"/>\r\n  </clipPath>\r\n </defs>\r\n</svg>\r\n",
      "image/png": "[encoded data removed]"
     },
     "metadata": {
      "needs_background": "light"
     }
    }
   ],
   "source": [
    "datos = []\n",
    "\n",
    "columns = [str(index) for index in range(0,(144*48))]\n",
    "columns += [\"etiqueta\"]\n",
    "\n",
    "numberFiles = []\n",
    "\n",
    "for name in files:\n",
    "    try:\n",
    "\n",
    "        numberFiles.append(str(int(name)))\n",
    "\n",
    "    except ValueError:\n",
    "        pass\n",
    "\n",
    "for file in numberFiles: #Vemos todos los folders excepto el ultimo archivo\n",
    "    path = cwd+file+\"\\\\\"\n",
    "    folderFiles = listdir(path)\n",
    "    images = []\n",
    "    for img in folderFiles:\n",
    "        imgPath = path+img\n",
    "        datos += [np.append(cv.imread(imgPath,0).flatten(),np.uint(file)).tolist()]\n",
    "\n",
    "datos = DataFrame(datos,columns=columns)\n",
    "print(datos.head())\n",
    "\n",
    "pic1 = np.reshape(datos.values[0][:-1], (144,48))\n",
    "plt.imshow(pic1, cmap = \"gray\")"
   ]
  },
  {
   "cell_type": "code",
   "execution_count": 6,
   "metadata": {},
   "outputs": [
    {
     "output_type": "stream",
     "name": "stdout",
     "text": [
      "     0    1    2    3    4    5    6    7    8    9  ...  6903  6904  6905  \\\n0  255  255  255  255  255  255  255  255  255  252  ...   255   255   255   \n1  255  255  255  255  255  255  255  255  251  255  ...   255   255   255   \n2  255  255  255  255  255  255  255  255  255  255  ...   254   255   255   \n3  255  255  255  255  255  255  255  255  255  253  ...   254   255   255   \n4  255  255  255  255  255  255  255  255  253  254  ...   255   255   255   \n\n   6906  6907  6908  6909  6910  6911  etiqueta  \n0   255   255   255   255   255   255         0  \n1   255   255   255   255   255   255         0  \n2   255   255   255   255   255   255         0  \n3   255   255   255   255   255   255         0  \n4   255   255   255   255   255   255         0  \n\n[5 rows x 6913 columns]\n        0    1    2    3    4    5    6    7    8    9  ...  6903  6904  6905  \\\n1240  255  252  255  255  253  253  255  253  255  255  ...   255   254   255   \n535   255  255  255  255  255  255  255  255  254  255  ...   250   250   253   \n57    255  255  255  255  255  255  255  255  253  253  ...   255   255   255   \n2666  255  255  255  255  255  255  255  255  255  253  ...   255   255   255   \n644   255  255  255  255  255  255  255  255  255  255  ...   211   146    43   \n\n      6906  6907  6908  6909  6910  6911  etiqueta  \n1240    83     6     0     0     0     0         4  \n535    255   255   254   255   254   255         1  \n57     255   255   255   255   255   255         0  \n2666   255   255   255   255   255   255         9  \n644      1    87   255   254   255   255         2  \n\n[5 rows x 6913 columns]\n"
     ]
    }
   ],
   "source": [
    "# Revolver el dataset\n",
    "print(datos.head())\n",
    "datos = datos.sample(frac=1)\n",
    "print(datos.head())"
   ]
  },
  {
   "cell_type": "code",
   "execution_count": 7,
   "metadata": {},
   "outputs": [
    {
     "output_type": "stream",
     "name": "stdout",
     "text": [
      "     0         1    2    3         4         5    6         7         8  \\\n0  1.0  0.988235  1.0  1.0  0.992157  0.992157  1.0  0.992157  1.000000   \n1  1.0  1.000000  1.0  1.0  1.000000  1.000000  1.0  1.000000  0.996078   \n2  1.0  1.000000  1.0  1.0  1.000000  1.000000  1.0  1.000000  0.992157   \n3  1.0  1.000000  1.0  1.0  1.000000  1.000000  1.0  1.000000  1.000000   \n4  1.0  1.000000  1.0  1.0  1.000000  1.000000  1.0  1.000000  1.000000   \n\n          9  ...      6903      6904      6905      6906      6907      6908  \\\n0  1.000000  ...  1.000000  0.996078  1.000000  0.325490  0.023529  0.000000   \n1  1.000000  ...  0.980392  0.980392  0.992157  1.000000  1.000000  0.996078   \n2  0.992157  ...  1.000000  1.000000  1.000000  1.000000  1.000000  1.000000   \n3  0.992157  ...  1.000000  1.000000  1.000000  1.000000  1.000000  1.000000   \n4  1.000000  ...  0.827451  0.572549  0.168627  0.003922  0.341176  1.000000   \n\n       6909      6910  6911  etiqueta  \n0  0.000000  0.000000   0.0         4  \n1  1.000000  0.996078   1.0         1  \n2  1.000000  1.000000   1.0         0  \n3  1.000000  1.000000   1.0         9  \n4  0.996078  1.000000   1.0         2  \n\n[5 rows x 6913 columns]\n1240    4\n535     1\n57      0\n2666    9\n644     2\nName: etiqueta, dtype: int64\n"
     ]
    }
   ],
   "source": [
    "# Al ser numeros en grayscale, los valores van a estar en el rango de 0 a 255, podemos aplicar un escalamiento\n",
    "\n",
    "X = DataFrame(datos.values[:,:-1])\n",
    "y = datos[\"etiqueta\"]\n",
    "\n",
    "X = X/255\n",
    "\n",
    "# Agrego otra vez la columna de etiquetas\n",
    "X.insert(X.shape[1],'etiqueta',y.values.tolist(),False)\n",
    "\n",
    "datos = X\n",
    "\n",
    "print(X.head())\n",
    "print(y.head())"
   ]
  },
  {
   "cell_type": "code",
   "execution_count": 8,
   "metadata": {},
   "outputs": [
    {
     "output_type": "stream",
     "name": "stdout",
     "text": [
      "A (884, 6913)\nB (1769, 6913)\nC (2948, 6913)\n"
     ]
    }
   ],
   "source": [
    "# Declaracion de niveles\n",
    "\n",
    "A = datos.copy().sample(frac=0.3) # Set A con el 30% de los datos\n",
    "\n",
    "B = datos.copy().sample(frac=0.6) # Set B con el 60% de los datos\n",
    "\n",
    "#El ultimo conjunto a probar es el conjunto de datos entero\n",
    "\n",
    "niveles = { # Diccionario para el acceso a los distintos datasets\n",
    "    \"A\": A,\n",
    "    \"B\": B,\n",
    "    \"C\": datos.copy()\n",
    "}\n",
    "\n",
    "for nivel in niveles.keys():\n",
    "    print(nivel,niveles.get(nivel).shape)"
   ]
  },
  {
   "cell_type": "code",
   "execution_count": 9,
   "metadata": {},
   "outputs": [],
   "source": [
    "#Funcion de utilidad\n",
    "def partirXY(dataset,targetColumnName):\n",
    "  '''A partir de un dataset completo, partir y retornar X,Y respectivamente'''\n",
    "  #print(dataset.columns)\n",
    "  X = dataset[dataset.columns[:-1]]\n",
    "  Y = dataset[targetColumnName]\n",
    "  return X,Y"
   ]
  },
  {
   "cell_type": "code",
   "execution_count": 10,
   "metadata": {},
   "outputs": [
    {
     "output_type": "stream",
     "name": "stdout",
     "text": [
      "A 29.98643 % (884/2948)\n",
      "Tiempo de ejecución : 2.49209 s\n",
      "Tasa de aciertos = 93.60902%\n",
      "--------------------------------------------------------------------------------\n",
      "B 60.00678 % (1769/2948)\n",
      "Tiempo de ejecución : 3.053 s\n",
      "Tasa de aciertos = 96.23352%\n",
      "--------------------------------------------------------------------------------\n",
      "C 100.0 % (2948/2948)\n",
      "Tiempo de ejecución : 3.69412 s\n",
      "Tasa de aciertos = 95.9322%\n",
      "--------------------------------------------------------------------------------\n"
     ]
    }
   ],
   "source": [
    "# Entrenamiento\n",
    "\n",
    "# Todos los tipos especimenes tienen la misma cantidad, por lo cual no hay oversampling o undersampling\n",
    "\n",
    "# Contenedor de metricas por nivel\n",
    "accuracy = []\n",
    "\n",
    "for key in niveles.keys():\n",
    "\n",
    "    subconjunto = niveles.get(key)\n",
    "\n",
    "    X,y = partirXY(subconjunto,'etiqueta')\n",
    "\n",
    "    X_train, X_test, y_train, y_test= train_test_split(X, y, train_size=0.70, shuffle=True,random_state=42)\n",
    "\n",
    "    start = time.perf_counter() # Para cronometrar el entrenamiento\n",
    "\n",
    "    ###\n",
    "\n",
    "    model = LogisticRegression()\n",
    "\n",
    "    model.fit(X_train,y_train)\n",
    "\n",
    "    y_pred = model.predict(X_test)\n",
    "\n",
    "    ###\n",
    "\n",
    "    accuracy += [model.score(X_test,y_test)]\n",
    "\n",
    "    print(key,round(((X.shape[0]/datos.shape[0])*100),5),\"%\",\"(\"+str(X.shape[0])+\"/\"+str(datos.shape[0])+\")\")\n",
    "\n",
    "    print(\"Tiempo de ejecución :\", round(time.perf_counter() - start,5),\"s\")\n",
    "\n",
    "    print(\"Tasa de aciertos = \"+str(round(model.score(X_test,y_test)*100,5)) + \"%\")\n",
    "\n",
    "    print('-'*80)"
   ]
  },
  {
   "cell_type": "code",
   "execution_count": 11,
   "metadata": {},
   "outputs": [
    {
     "output_type": "stream",
     "name": "stdout",
     "text": [
      "[0.9360902255639098, 0.9623352165725048, 0.9593220338983051]\n"
     ]
    },
    {
     "output_type": "display_data",
     "data": {
      "application/vnd.plotly.v1+json": {
       "config": {
        "plotlyServerURL": "https://plot.ly"
       },
       "data": [
        {
         "hovertemplate": "Dataset=%{x}<br>Accuracy Score=%{y}<extra></extra>",
         "legendgroup": "",
         "line": {
          "color": "#636efa",
          "dash": "solid"
         },
         "mode": "lines",
         "name": "",
         "orientation": "v",
         "showlegend": false,
         "type": "scatter",
         "x": [
          "A",
          "B",
          "C"
         ],
         "xaxis": "x",
         "y": [
          0.9360902255639098,
          0.9623352165725048,
          0.9593220338983051
         ],
         "yaxis": "y"
        }
       ],
       "layout": {
        "legend": {
         "tracegroupgap": 0
        },
        "template": {
         "data": {
          "bar": [
           {
            "error_x": {
             "color": "#2a3f5f"
            },
            "error_y": {
             "color": "#2a3f5f"
            },
            "marker": {
             "line": {
              "color": "#E5ECF6",
              "width": 0.5
             }
            },
            "type": "bar"
           }
          ],
          "barpolar": [
           {
            "marker": {
             "line": {
              "color": "#E5ECF6",
              "width": 0.5
             }
            },
            "type": "barpolar"
           }
          ],
          "carpet": [
           {
            "aaxis": {
             "endlinecolor": "#2a3f5f",
             "gridcolor": "white",
             "linecolor": "white",
             "minorgridcolor": "white",
             "startlinecolor": "#2a3f5f"
            },
            "baxis": {
             "endlinecolor": "#2a3f5f",
             "gridcolor": "white",
             "linecolor": "white",
             "minorgridcolor": "white",
             "startlinecolor": "#2a3f5f"
            },
            "type": "carpet"
           }
          ],
          "choropleth": [
           {
            "colorbar": {
             "outlinewidth": 0,
             "ticks": ""
            },
            "type": "choropleth"
           }
          ],
          "contour": [
           {
            "colorbar": {
             "outlinewidth": 0,
             "ticks": ""
            },
            "colorscale": [
             [
              0,
              "#0d0887"
             ],
             [
              0.1111111111111111,
              "#46039f"
             ],
             [
              0.2222222222222222,
              "#7201a8"
             ],
             [
              0.3333333333333333,
              "#9c179e"
             ],
             [
              0.4444444444444444,
              "#bd3786"
             ],
             [
              0.5555555555555556,
              "#d8576b"
             ],
             [
              0.6666666666666666,
              "#ed7953"
             ],
             [
              0.7777777777777778,
              "#fb9f3a"
             ],
             [
              0.8888888888888888,
              "#fdca26"
             ],
             [
              1,
              "#f0f921"
             ]
            ],
            "type": "contour"
           }
          ],
          "contourcarpet": [
           {
            "colorbar": {
             "outlinewidth": 0,
             "ticks": ""
            },
            "type": "contourcarpet"
           }
          ],
          "heatmap": [
           {
            "colorbar": {
             "outlinewidth": 0,
             "ticks": ""
            },
            "colorscale": [
             [
              0,
              "#0d0887"
             ],
             [
              0.1111111111111111,
              "#46039f"
             ],
             [
              0.2222222222222222,
              "#7201a8"
             ],
             [
              0.3333333333333333,
              "#9c179e"
             ],
             [
              0.4444444444444444,
              "#bd3786"
             ],
             [
              0.5555555555555556,
              "#d8576b"
             ],
             [
              0.6666666666666666,
              "#ed7953"
             ],
             [
              0.7777777777777778,
              "#fb9f3a"
             ],
             [
              0.8888888888888888,
              "#fdca26"
             ],
             [
              1,
              "#f0f921"
             ]
            ],
            "type": "heatmap"
           }
          ],
          "heatmapgl": [
           {
            "colorbar": {
             "outlinewidth": 0,
             "ticks": ""
            },
            "colorscale": [
             [
              0,
              "#0d0887"
             ],
             [
              0.1111111111111111,
              "#46039f"
             ],
             [
              0.2222222222222222,
              "#7201a8"
             ],
             [
              0.3333333333333333,
              "#9c179e"
             ],
             [
              0.4444444444444444,
              "#bd3786"
             ],
             [
              0.5555555555555556,
              "#d8576b"
             ],
             [
              0.6666666666666666,
              "#ed7953"
             ],
             [
              0.7777777777777778,
              "#fb9f3a"
             ],
             [
              0.8888888888888888,
              "#fdca26"
             ],
             [
              1,
              "#f0f921"
             ]
            ],
            "type": "heatmapgl"
           }
          ],
          "histogram": [
           {
            "marker": {
             "colorbar": {
              "outlinewidth": 0,
              "ticks": ""
             }
            },
            "type": "histogram"
           }
          ],
          "histogram2d": [
           {
            "colorbar": {
             "outlinewidth": 0,
             "ticks": ""
            },
            "colorscale": [
             [
              0,
              "#0d0887"
             ],
             [
              0.1111111111111111,
              "#46039f"
             ],
             [
              0.2222222222222222,
              "#7201a8"
             ],
             [
              0.3333333333333333,
              "#9c179e"
             ],
             [
              0.4444444444444444,
              "#bd3786"
             ],
             [
              0.5555555555555556,
              "#d8576b"
             ],
             [
              0.6666666666666666,
              "#ed7953"
             ],
             [
              0.7777777777777778,
              "#fb9f3a"
             ],
             [
              0.8888888888888888,
              "#fdca26"
             ],
             [
              1,
              "#f0f921"
             ]
            ],
            "type": "histogram2d"
           }
          ],
          "histogram2dcontour": [
           {
            "colorbar": {
             "outlinewidth": 0,
             "ticks": ""
            },
            "colorscale": [
             [
              0,
              "#0d0887"
             ],
             [
              0.1111111111111111,
              "#46039f"
             ],
             [
              0.2222222222222222,
              "#7201a8"
             ],
             [
              0.3333333333333333,
              "#9c179e"
             ],
             [
              0.4444444444444444,
              "#bd3786"
             ],
             [
              0.5555555555555556,
              "#d8576b"
             ],
             [
              0.6666666666666666,
              "#ed7953"
             ],
             [
              0.7777777777777778,
              "#fb9f3a"
             ],
             [
              0.8888888888888888,
              "#fdca26"
             ],
             [
              1,
              "#f0f921"
             ]
            ],
            "type": "histogram2dcontour"
           }
          ],
          "mesh3d": [
           {
            "colorbar": {
             "outlinewidth": 0,
             "ticks": ""
            },
            "type": "mesh3d"
           }
          ],
          "parcoords": [
           {
            "line": {
             "colorbar": {
              "outlinewidth": 0,
              "ticks": ""
             }
            },
            "type": "parcoords"
           }
          ],
          "pie": [
           {
            "automargin": true,
            "type": "pie"
           }
          ],
          "scatter": [
           {
            "marker": {
             "colorbar": {
              "outlinewidth": 0,
              "ticks": ""
             }
            },
            "type": "scatter"
           }
          ],
          "scatter3d": [
           {
            "line": {
             "colorbar": {
              "outlinewidth": 0,
              "ticks": ""
             }
            },
            "marker": {
             "colorbar": {
              "outlinewidth": 0,
              "ticks": ""
             }
            },
            "type": "scatter3d"
           }
          ],
          "scattercarpet": [
           {
            "marker": {
             "colorbar": {
              "outlinewidth": 0,
              "ticks": ""
             }
            },
            "type": "scattercarpet"
           }
          ],
          "scattergeo": [
           {
            "marker": {
             "colorbar": {
              "outlinewidth": 0,
              "ticks": ""
             }
            },
            "type": "scattergeo"
           }
          ],
          "scattergl": [
           {
            "marker": {
             "colorbar": {
              "outlinewidth": 0,
              "ticks": ""
             }
            },
            "type": "scattergl"
           }
          ],
          "scattermapbox": [
           {
            "marker": {
             "colorbar": {
              "outlinewidth": 0,
              "ticks": ""
             }
            },
            "type": "scattermapbox"
           }
          ],
          "scatterpolar": [
           {
            "marker": {
             "colorbar": {
              "outlinewidth": 0,
              "ticks": ""
             }
            },
            "type": "scatterpolar"
           }
          ],
          "scatterpolargl": [
           {
            "marker": {
             "colorbar": {
              "outlinewidth": 0,
              "ticks": ""
             }
            },
            "type": "scatterpolargl"
           }
          ],
          "scatterternary": [
           {
            "marker": {
             "colorbar": {
              "outlinewidth": 0,
              "ticks": ""
             }
            },
            "type": "scatterternary"
           }
          ],
          "surface": [
           {
            "colorbar": {
             "outlinewidth": 0,
             "ticks": ""
            },
            "colorscale": [
             [
              0,
              "#0d0887"
             ],
             [
              0.1111111111111111,
              "#46039f"
             ],
             [
              0.2222222222222222,
              "#7201a8"
             ],
             [
              0.3333333333333333,
              "#9c179e"
             ],
             [
              0.4444444444444444,
              "#bd3786"
             ],
             [
              0.5555555555555556,
              "#d8576b"
             ],
             [
              0.6666666666666666,
              "#ed7953"
             ],
             [
              0.7777777777777778,
              "#fb9f3a"
             ],
             [
              0.8888888888888888,
              "#fdca26"
             ],
             [
              1,
              "#f0f921"
             ]
            ],
            "type": "surface"
           }
          ],
          "table": [
           {
            "cells": {
             "fill": {
              "color": "#EBF0F8"
             },
             "line": {
              "color": "white"
             }
            },
            "header": {
             "fill": {
              "color": "#C8D4E3"
             },
             "line": {
              "color": "white"
             }
            },
            "type": "table"
           }
          ]
         },
         "layout": {
          "annotationdefaults": {
           "arrowcolor": "#2a3f5f",
           "arrowhead": 0,
           "arrowwidth": 1
          },
          "coloraxis": {
           "colorbar": {
            "outlinewidth": 0,
            "ticks": ""
           }
          },
          "colorscale": {
           "diverging": [
            [
             0,
             "#8e0152"
            ],
            [
             0.1,
             "#c51b7d"
            ],
            [
             0.2,
             "#de77ae"
            ],
            [
             0.3,
             "#f1b6da"
            ],
            [
             0.4,
             "#fde0ef"
            ],
            [
             0.5,
             "#f7f7f7"
            ],
            [
             0.6,
             "#e6f5d0"
            ],
            [
             0.7,
             "#b8e186"
            ],
            [
             0.8,
             "#7fbc41"
            ],
            [
             0.9,
             "#4d9221"
            ],
            [
             1,
             "#276419"
            ]
           ],
           "sequential": [
            [
             0,
             "#0d0887"
            ],
            [
             0.1111111111111111,
             "#46039f"
            ],
            [
             0.2222222222222222,
             "#7201a8"
            ],
            [
             0.3333333333333333,
             "#9c179e"
            ],
            [
             0.4444444444444444,
             "#bd3786"
            ],
            [
             0.5555555555555556,
             "#d8576b"
            ],
            [
             0.6666666666666666,
             "#ed7953"
            ],
            [
             0.7777777777777778,
             "#fb9f3a"
            ],
            [
             0.8888888888888888,
             "#fdca26"
            ],
            [
             1,
             "#f0f921"
            ]
           ],
           "sequentialminus": [
            [
             0,
             "#0d0887"
            ],
            [
             0.1111111111111111,
             "#46039f"
            ],
            [
             0.2222222222222222,
             "#7201a8"
            ],
            [
             0.3333333333333333,
             "#9c179e"
            ],
            [
             0.4444444444444444,
             "#bd3786"
            ],
            [
             0.5555555555555556,
             "#d8576b"
            ],
            [
             0.6666666666666666,
             "#ed7953"
            ],
            [
             0.7777777777777778,
             "#fb9f3a"
            ],
            [
             0.8888888888888888,
             "#fdca26"
            ],
            [
             1,
             "#f0f921"
            ]
           ]
          },
          "colorway": [
           "#636efa",
           "#EF553B",
           "#00cc96",
           "#ab63fa",
           "#FFA15A",
           "#19d3f3",
           "#FF6692",
           "#B6E880",
           "#FF97FF",
           "#FECB52"
          ],
          "font": {
           "color": "#2a3f5f"
          },
          "geo": {
           "bgcolor": "white",
           "lakecolor": "white",
           "landcolor": "#E5ECF6",
           "showlakes": true,
           "showland": true,
           "subunitcolor": "white"
          },
          "hoverlabel": {
           "align": "left"
          },
          "hovermode": "closest",
          "mapbox": {
           "style": "light"
          },
          "paper_bgcolor": "white",
          "plot_bgcolor": "#E5ECF6",
          "polar": {
           "angularaxis": {
            "gridcolor": "white",
            "linecolor": "white",
            "ticks": ""
           },
           "bgcolor": "#E5ECF6",
           "radialaxis": {
            "gridcolor": "white",
            "linecolor": "white",
            "ticks": ""
           }
          },
          "scene": {
           "xaxis": {
            "backgroundcolor": "#E5ECF6",
            "gridcolor": "white",
            "gridwidth": 2,
            "linecolor": "white",
            "showbackground": true,
            "ticks": "",
            "zerolinecolor": "white"
           },
           "yaxis": {
            "backgroundcolor": "#E5ECF6",
            "gridcolor": "white",
            "gridwidth": 2,
            "linecolor": "white",
            "showbackground": true,
            "ticks": "",
            "zerolinecolor": "white"
           },
           "zaxis": {
            "backgroundcolor": "#E5ECF6",
            "gridcolor": "white",
            "gridwidth": 2,
            "linecolor": "white",
            "showbackground": true,
            "ticks": "",
            "zerolinecolor": "white"
           }
          },
          "shapedefaults": {
           "line": {
            "color": "#2a3f5f"
           }
          },
          "ternary": {
           "aaxis": {
            "gridcolor": "white",
            "linecolor": "white",
            "ticks": ""
           },
           "baxis": {
            "gridcolor": "white",
            "linecolor": "white",
            "ticks": ""
           },
           "bgcolor": "#E5ECF6",
           "caxis": {
            "gridcolor": "white",
            "linecolor": "white",
            "ticks": ""
           }
          },
          "title": {
           "x": 0.05
          },
          "xaxis": {
           "automargin": true,
           "gridcolor": "white",
           "linecolor": "white",
           "ticks": "",
           "title": {
            "standoff": 15
           },
           "zerolinecolor": "white",
           "zerolinewidth": 2
          },
          "yaxis": {
           "automargin": true,
           "gridcolor": "white",
           "linecolor": "white",
           "ticks": "",
           "title": {
            "standoff": 15
           },
           "zerolinecolor": "white",
           "zerolinewidth": 2
          }
         }
        },
        "title": {
         "text": "Accuracy"
        },
        "xaxis": {
         "anchor": "y",
         "domain": [
          0,
          1
         ],
         "title": {
          "text": "Dataset"
         }
        },
        "yaxis": {
         "anchor": "x",
         "domain": [
          0,
          1
         ],
         "title": {
          "text": "Accuracy Score"
         }
        }
       }
      }
     },
     "metadata": {}
    }
   ],
   "source": [
    "# Graficacion de metricas\n",
    "print(accuracy)\n",
    "\n",
    "accuracyFig = px.line(x= list (niveles.keys()),y=accuracy,title=\"Accuracy\",labels={\"x\":\"Dataset\",\"y\":\"Accuracy Score\"})\n",
    "\n",
    "accuracyFig.show()"
   ]
  }
 ]
}