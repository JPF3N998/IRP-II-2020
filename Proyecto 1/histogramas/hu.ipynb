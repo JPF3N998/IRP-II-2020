{
 "metadata": {
  "language_info": {
   "codemirror_mode": {
    "name": "ipython",
    "version": 3
   },
   "file_extension": ".py",
   "mimetype": "text/x-python",
   "name": "python",
   "nbconvert_exporter": "python",
   "pygments_lexer": "ipython3",
   "version": "3.8.5-final"
  },
  "orig_nbformat": 2,
  "kernelspec": {
   "name": "python3",
   "display_name": "Python 3.8.5 64-bit",
   "metadata": {
    "interpreter": {
     "hash": "13fdf25ef2beee923e1f1011635d38d6ce68fb2882c6a64f76de1420ab9cc9f4"
    }
   }
  }
 },
 "nbformat": 4,
 "nbformat_minor": 2,
 "cells": [
  {
   "cell_type": "code",
   "execution_count": 1,
   "metadata": {},
   "outputs": [],
   "source": [
    "from os import listdir, getcwd\n",
    "import cv2 as cv\n",
    "import numpy as np\n",
    "import time"
   ]
  },
  {
   "cell_type": "code",
   "execution_count": 15,
   "metadata": {},
   "outputs": [],
   "source": [
    "def get7Moments(img):\n",
    "    '''Calcular los momentos de Hu de la imagen'''\n",
    "\n",
    "    img = cv.bitwise_not(img)\n",
    "    hu = cv.HuMoments(cv.moments(img))\n",
    "\n",
    "    for i in range(0, 7):\n",
    "        hu[i] = -1 * np.sign(hu[i]) * np.log10(np.abs(hu[i]))\n",
    "    \n",
    "    hu = hu.reshape((1, 7)).tolist()[0]\n",
    "    \n",
    "    return hu"
   ]
  },
  {
   "cell_type": "code",
   "execution_count": 89,
   "metadata": {},
   "outputs": [],
   "source": [
    "def processImages(HUs):\n",
    "    '''Recorrer las imagenes, calcular sus momentos y agregar los promedios al diccionario'''\n",
    "\n",
    "    CWD = './'\n",
    "\n",
    "    DIGITS = [0,1,2,3,4,5,6,7,8,9]\n",
    "\n",
    "    # Recorrer los folders de los digitos\n",
    "    for number in DIGITS:\n",
    "\n",
    "        # Cronometro\n",
    "        startTime = time.perf_counter()\n",
    "\n",
    "        folder = CWD + str(number) + '/'\n",
    "\n",
    "        # Ver los archivos del folder\n",
    "        files = listdir(folder)\n",
    "        \n",
    "        # Contenedores de los momentos de Hu de las imagenes del folder\n",
    "        momento1 = []\n",
    "        momento2 = []\n",
    "        momento3 = []\n",
    "        momento4 = []\n",
    "        momento5 = []\n",
    "        momento6 = []\n",
    "        momento7 = []\n",
    "\n",
    "        # Recorremos los archivos del folder\n",
    "        for file in files:\n",
    "            \n",
    "            # Leer imagen\n",
    "            img = cv.imread(folder + file,0)\n",
    "\n",
    "            # Calcular los momentos de la imagen\n",
    "            #momentos = get7Moments(img)\n",
    "            momentos = cv.moments(img)\n",
    "            momentos = cv.HuMoments(momentos)\n",
    "            # Agregar cada momento a cada lista para poder calcular sus promedios al final\n",
    "            momento1 += momentos[0].tolist() \n",
    "            momento2 +=  momentos[1].tolist() \n",
    "            momento3 += momentos[2].tolist() \n",
    "            momento4 += momentos[3].tolist() \n",
    "            momento5 +=  momentos[4].tolist() \n",
    "            momento6 +=  momentos[5].tolist() \n",
    "            momento7 +=  momentos[6].tolist() \n",
    "\n",
    "        # Calcular el promedio de los momentos de Hu para este digito\n",
    "        momentosHuDigito = [\n",
    "\n",
    "            sum(momento1)/len(momento1),\n",
    "            sum(momento2)/len(momento2),\n",
    "            sum(momento3)/len(momento3),\n",
    "            sum(momento4)/len(momento4),\n",
    "            sum(momento5)/len(momento5),\n",
    "            sum(momento6)/len(momento6),\n",
    "            sum(momento7)/len(momento7)\n",
    "\n",
    "        ]\n",
    "\n",
    "        # Agregar promedio de momentos al diccionario\n",
    "        HUs[number] = momentosHuDigito\n",
    "\n",
    "        print(\"Procesado de \" + str(number) + ': ' + str(time.perf_counter() - startTime) + \" s (\" + str(len(files)) + \")\")"
   ]
  },
  {
   "cell_type": "code",
   "execution_count": 90,
   "metadata": {},
   "outputs": [
    {
     "output_type": "stream",
     "name": "stdout",
     "text": [
      "Procesado de 0: 0.05968360000042594 s (324)\n",
      "Procesado de 1: 0.04885230000036245 s (280)\n",
      "Procesado de 2: 0.06169080000017857 s (335)\n",
      "Procesado de 3: 0.05301869999948394 s (285)\n",
      "Procesado de 4: 0.05202259999987291 s (268)\n",
      "Procesado de 5: 0.06375789999947301 s (319)\n",
      "Procesado de 6: 0.058065000000169675 s (302)\n",
      "Procesado de 7: 0.04199430000062421 s (225)\n",
      "Procesado de 8: 0.06838609999977052 s (327)\n",
      "Procesado de 9: 0.05235189999984868 s (283)\n"
     ]
    }
   ],
   "source": [
    "HUs = {}\n",
    "\n",
    "processImages(HUs)"
   ]
  },
  {
   "cell_type": "code",
   "execution_count": 91,
   "metadata": {},
   "outputs": [
    {
     "output_type": "stream",
     "name": "stdout",
     "text": [
      "[0.0015516787098529005, 1.7674411198111234e-06, 3.4447932828946614e-11, 2.8462507182739372e-11, 1.4240867862307583e-20, 6.46019038253848e-14, 1.6834390245775724e-21]\n[0.0037842797518092947, 5.529041357934756e-05, 3.4583516953030024e-09, 2.6669459533043724e-09, 1.1133391788191514e-16, 1.0201948923505193e-11, -1.0297784342947463e-17]\n[0.0013592908189216176, 1.0623282088634982e-06, 6.12590233529266e-11, 3.9745634431154096e-11, 1.2071354431835816e-20, 4.4068599361388346e-14, 2.9547323385862314e-22]\n[0.001416729611118886, 1.2113490609892818e-06, 4.052762672659612e-11, 1.4284604775367497e-11, 4.1197128483839435e-22, -1.472619441167016e-15, -7.67744814652639e-22]\n[0.0015997814473864475, 1.8480624029314437e-06, 1.1029725476024232e-10, 9.180539902380717e-11, 2.7119531703124505e-20, 1.4893582788977585e-13, -2.2749606974145355e-21]\n[0.0014151090609298977, 1.2351065945862248e-06, 2.810717461448768e-11, 1.9104188213157123e-11, 4.273423201576242e-21, 2.2938813740030517e-14, 2.0979528241784669e-22]\n[0.0016628088223921732, 1.867132193333344e-06, 6.347664128055842e-10, 5.834237398171452e-10, 2.1429942798436367e-18, 1.139585976545116e-12, -1.168047764325571e-19]\n[0.001544162274064637, 1.4785974672477272e-06, 1.25693811551463e-10, 1.2202523975720963e-10, 1.2844861293769037e-19, 1.9205756263272803e-13, -1.6472013413615673e-20]\n[0.0017302759378457755, 2.031604908688265e-06, 1.1628078714497968e-10, 9.486860225461759e-11, 1.533551899755832e-19, 1.9258899167520016e-13, 8.760545955528582e-22]\n[0.0016562643965358059, 1.9519555435843887e-06, 5.94648371330103e-10, 9.259566838986545e-10, 6.4309877832381035e-18, 2.1633583535628374e-12, -7.180751492714333e-19]\n"
     ]
    }
   ],
   "source": [
    "for key in HUs.keys():\n",
    "\n",
    "    print(HUs[key])\n"
   ]
  },
  {
   "cell_type": "code",
   "execution_count": 114,
   "metadata": {},
   "outputs": [
    {
     "output_type": "stream",
     "name": "stdout",
     "text": [
      "5\n"
     ]
    }
   ],
   "source": [
    "test = cv.imread('./7.jpg',0)\n",
    "momentos = cv.moments(test)\n",
    "momentos = cv.HuMoments(momentos).flatten()\n",
    "\n",
    "dif = []\n",
    "\n",
    "momentos = np.array(momentos)\n",
    "\n",
    "for key in HUs.keys():\n",
    "    \n",
    "    dif += [sum(abs(momentos - HUs[key]))]\n",
    "    \n",
    "pred = min(dif)\n",
    "\n",
    "print(dif.index(pred))"
   ]
  }
 ]
}